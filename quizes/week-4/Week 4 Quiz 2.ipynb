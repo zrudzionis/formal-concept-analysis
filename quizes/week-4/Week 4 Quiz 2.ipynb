{
 "cells": [
  {
   "cell_type": "code",
   "execution_count": 18,
   "metadata": {},
   "outputs": [],
   "source": [
    "from itertools import combinations\n",
    "from pprint import pprint as pp\n",
    "\n",
    "def generate_input(attrs_by_obj):\n",
    "    objs_by_attr = dict()\n",
    "    for obj, attrs in attrs_by_obj.iteritems():\n",
    "        for attr in attrs:\n",
    "            if attr not in objs_by_attr:\n",
    "                objs_by_attr[attr] = set()\n",
    "            objs_by_attr[attr].add(obj)\n",
    "    \n",
    "    attributes = reduce(lambda a, b: a.union(b), attrs_by_obj.values())\n",
    "    objects = sorted(attrs_by_obj.keys())\n",
    "    \n",
    "    attributes_set = set(attributes)\n",
    "    objects_set = set(objects)\n",
    "    \n",
    "    return attributes, attributes_set, objs_by_attr, objects, objects_set, attrs_by_obj\n",
    "    \n",
    "\n",
    "def obj_closure(objects, all_attributes, attrs_by_obj):\n",
    "    m = set(all_attributes)\n",
    "    for obj in objects:\n",
    "        m = m.intersection(attrs_by_obj[obj])\n",
    "    return m\n",
    "\n",
    "def attr_closure(attributes, all_objects, objs_by_attr):\n",
    "    g = set(all_objects)\n",
    "    for attr in attributes:\n",
    "        g = g.intersection(objs_by_attr[attr])\n",
    "    return g\n",
    "\n",
    "\n",
    "def closure(attributes, all_attributes, all_objects, attrs_by_obj, objs_by_attr):\n",
    "    return obj_closure(attr_closure(attributes, all_objects, objs_by_attr), all_attributes, attrs_by_obj)\n",
    "\n",
    "\n",
    "def get_preclosed_intents():\n",
    "    pseudo_intents = list()\n",
    "    \n",
    "    for i in xrange(0, len(attributes_set) + 1):\n",
    "        for subset in list(combinations(attributes_set, i)):\n",
    "            subset = set(subset)\n",
    "            is_pseudo_intent = True\n",
    "            for pseudo_intent in pseudo_intents:\n",
    "                if pseudo_intent < subset:\n",
    "                    if not closure(pseudo_intent) <= subset:\n",
    "                        is_pseudo_intent = False\n",
    "                        break\n",
    "            if is_pseudo_intent:\n",
    "                pseudo_intents.append(subset)\n",
    "    return pseudo_intents\n",
    "\n",
    "\n",
    "def get_pseudo_intents(attributes_set, get_closure):\n",
    "    pseudo_intents = list()\n",
    "    \n",
    "    for i in xrange(0, len(attributes_set) + 1):\n",
    "        for subset in list(combinations(attributes_set, i)):\n",
    "            subset = set(subset)\n",
    "            if subset != get_closure(subset):\n",
    "                is_pseudo_intent = True\n",
    "                for pseudo_intent in pseudo_intents:\n",
    "                    if pseudo_intent < subset:\n",
    "                        if not get_closure(pseudo_intent) <= subset:\n",
    "                            is_pseudo_intent = False\n",
    "                            break\n",
    "                if is_pseudo_intent:\n",
    "                    pseudo_intents.append(subset)\n",
    "    return pseudo_intents\n",
    "\n",
    "def get_preclosure(intent_set, pseudo_intents, get_closure):\n",
    "    prev_intents = None\n",
    "    cur_intents = intent_set\n",
    "    while prev_intents != cur_intents:\n",
    "        pseudo_intents_union = set()\n",
    "        for pseudo_intent in pseudo_intents:\n",
    "            if pseudo_intent < cur_intents:\n",
    "                pseudo_intents_union = pseudo_intents_union.union(get_closure(pseudo_intent))\n",
    "        prev_intents = cur_intents\n",
    "        cur_intents = cur_intents.union(pseudo_intents_union)\n",
    "    return cur_intents\n",
    "\n",
    "def next_closure(attribute_subset, attributes, get_closure):\n",
    "    s = set(attribute_subset)\n",
    "    for a in reversed(attributes):\n",
    "        if a in s:\n",
    "            s = s.difference(set([a]))\n",
    "        else:\n",
    "            b = get_closure(s.union(set([a])))\n",
    "            diff = b.difference(s)\n",
    "            contains_smaller = any(attributes.index(i) < attributes.index(a) for i in diff)\n",
    "            if not contains_smaller:\n",
    "                return b\n",
    "    return set(attributes)\n",
    "\n",
    "def get_canonical_basis(attributes, get_closure, get_preclosure):\n",
    "    el = []\n",
    "    a = set()\n",
    "    attributes_set = set(attributes)\n",
    "    while a != attributes_set:\n",
    "        a_closure = get_closure(a) \n",
    "        if a != a_closure:\n",
    "            el.append([a, '->', a_closure.difference(a)])\n",
    "        a = next_closure(a, attributes, get_preclosure)\n",
    "    return el\n",
    "\n",
    "\n",
    "def print_canonical_basis(attrs_by_obj):\n",
    "    all_attributes, all_attributes_set, objs_by_attr, all_objects, all_objects_set, attrs_by_obj = generate_input(attrs_by_obj)\n",
    "    \n",
    "    def get_closure(attributes):\n",
    "        return closure(attributes, all_attributes, all_objects, attrs_by_obj, objs_by_attr)\n",
    "        \n",
    "    pseudo_intents = get_pseudo_intents(all_attributes_set, get_closure)\n",
    "    preclosure = lambda intent_set: get_preclosure(intent_set, pseudo_intents, get_closure)\n",
    "    basis = get_canonical_basis(sorted(all_attributes), get_closure, preclosure)\n",
    "    pp(len(basis))\n",
    "    pp(basis)"
   ]
  },
  {
   "cell_type": "code",
   "execution_count": 19,
   "metadata": {},
   "outputs": [
    {
     "name": "stdout",
     "output_type": "stream",
     "text": [
      "3\n",
      "[[set(['c', 'd']), '->', set(['a'])],\n",
      " [set(['a']), '->', set(['c'])],\n",
      " [set(['a', 'b', 'c']), '->', set(['d'])]]\n"
     ]
    }
   ],
   "source": [
    "# Week 4 example \n",
    "attrs_by_obj_example = {\n",
    "    '1': set(['a', 'c', 'd']),\n",
    "    '2': set(['a', 'c']),\n",
    "    '3': set(['b', 'c']),\n",
    "    '4': set(['b', 'd']),\n",
    "}\n",
    "print_canonical_basis(attrs_by_obj_example)"
   ]
  },
  {
   "cell_type": "code",
   "execution_count": 20,
   "metadata": {},
   "outputs": [
    {
     "name": "stdout",
     "output_type": "stream",
     "text": [
      "4\n",
      "[[set(['d', 'e']), '->', set(['a', 'b', 'c'])],\n",
      " [set(['c', 'e']), '->', set(['a', 'b', 'd'])],\n",
      " [set(['c', 'd']), '->', set(['a', 'b', 'e'])],\n",
      " [set(['a']), '->', set(['b', 'c'])]]\n"
     ]
    }
   ],
   "source": [
    "# Week 4 quiz 2 question 1\n",
    "attrs_by_obj_question_1 = {\n",
    "    '1': set(['b', 'd']),\n",
    "    '2': set(['b', 'e']),\n",
    "    '3': set(['c']),\n",
    "    '4': set(['a', 'b', 'c']),\n",
    "    '5': set(['d']),\n",
    "    '6': set(['b', 'c']),\n",
    "    '7': set(['e']),\n",
    "    }\n",
    "\n",
    "print_canonical_basis(attrs_by_obj_question_1)   "
   ]
  },
  {
   "cell_type": "code",
   "execution_count": 23,
   "metadata": {},
   "outputs": [
    {
     "name": "stdout",
     "output_type": "stream",
     "text": [
      "5\n",
      "[[set(['e']), '->', set(['f'])],\n",
      " [set(['d']), '->', set(['c', 'f'])],\n",
      " [set(['c', 'd', 'e', 'f']), '->', set(['b'])],\n",
      " [set(['b', 'f']), '->', set(['c', 'e'])],\n",
      " [set(['a']), '->', set(['b', 'c', 'd', 'e', 'f'])]]\n"
     ]
    }
   ],
   "source": [
    "# Week 4 quiz 2 question 2\n",
    "attrs_by_obj_question_2 = {\n",
    "    '1': set(['b', 'c', 'e', 'f']),\n",
    "    '2': set(['b', 'c']),\n",
    "    '3': set(['a', 'b', 'c', 'd', 'e', 'f']),\n",
    "    '4': set(['e', 'f']),\n",
    "    '5': set(['c', 'e', 'f']),\n",
    "    '6': set(['b']),\n",
    "    '7': set(['c', 'e', 'f']),\n",
    "    '8': set(['c', 'd', 'f']),\n",
    "    '9': set(['c', 'e', 'f']),\n",
    "    '10': set(['b', 'c', 'd', 'e', 'f'])\n",
    "}\n",
    "\n",
    "print_canonical_basis(attrs_by_obj_question_2)"
   ]
  },
  {
   "cell_type": "code",
   "execution_count": 24,
   "metadata": {
    "scrolled": true
   },
   "outputs": [
    {
     "name": "stdout",
     "output_type": "stream",
     "text": [
      "5\n",
      "[[set([]), '->', set(['f'])],\n",
      " [set(['e', 'f']), '->', set(['b', 'c'])],\n",
      " [set(['c', 'd', 'f']), '->', set(['a', 'b', 'e'])],\n",
      " [set(['a', 'f']), '->', set(['c'])],\n",
      " [set(['a', 'b', 'c', 'f']), '->', set(['e'])]]\n"
     ]
    }
   ],
   "source": [
    "# Week 4 quiz 2 question 3\n",
    "attrs_by_obj_question_3 = {\n",
    "    '1': set(['a', 'c', 'f']),\n",
    "    '2': set(['b', 'd', 'f']),\n",
    "    '3': set(['b', 'c', 'e', 'f']),\n",
    "    '4': set(['b', 'c', 'f']),\n",
    "    '5': set(['d', 'f']),\n",
    "    '6': set(['a', 'b', 'c', 'e', 'f']),\n",
    "    '7': set(['b', 'd', 'f'])\n",
    "}\n",
    "print_canonical_basis(attrs_by_obj_question_3)"
   ]
  },
  {
   "cell_type": "code",
   "execution_count": 26,
   "metadata": {},
   "outputs": [
    {
     "name": "stdout",
     "output_type": "stream",
     "text": [
      "13\n",
      "[[set(['j']), '->', set(['a', 'k'])],\n",
      " [set(['g']), '->', set(['a', 'k'])],\n",
      " [set(['f']), '->', set(['b', 'd', 'k'])],\n",
      " [set(['e']), '->', set(['b', 'c', 'd', 'k'])],\n",
      " [set(['d', 'k']), '->', set(['b'])],\n",
      " [set(['c']), '->', set(['k'])],\n",
      " [set(['b', 'k']), '->', set(['d'])],\n",
      " [set(['b', 'd']), '->', set(['k'])],\n",
      " [set(['b', 'c', 'd', 'f', 'k']), '->', set(['e'])],\n",
      " [set(['a']), '->', set(['k'])],\n",
      " [set(['a', 'g', 'j', 'k']), '->', set(['c'])],\n",
      " [set(['a', 'c', 'k']), '->', set(['g'])],\n",
      " [set(['a', 'b', 'd', 'f', 'j', 'k']), '->', set(['c', 'e', 'g'])]]\n"
     ]
    }
   ],
   "source": [
    "# Week 4 quiz 2 question 4\n",
    "attrs_by_obj_question_4 = {\n",
    "    '1': set(['a', 'b', 'c', 'd', 'e', 'g', 'j', 'k']),\n",
    "    '2': set(['b', 'd', 'k']),\n",
    "    '3': set(['b', 'd', 'k']),\n",
    "    '4': set(['d']),\n",
    "    '5': set(['b', 'c', 'd', 'e', 'f', 'k']),\n",
    "    '6': set(['b']),\n",
    "    '7': set(['a', 'b', 'c', 'd', 'e', 'f', 'g', 'k']),\n",
    "    '8': set(['a', 'c', 'g', 'j', 'k']),\n",
    "    '9': set(['a', 'b', 'd', 'f', 'k']),\n",
    "    '10': set(['b', 'c', 'd', 'e', 'f', 'k']),\n",
    "    '11': set(['a', 'b', 'd', 'j', 'k']),\n",
    "    '12': set(['a', 'b', 'c', 'd', 'g', 'j', 'k']),\n",
    "    '13': set(['a', 'b', 'd', 'f', 'g', 'k']),\n",
    "}\n",
    "print_canonical_basis(attrs_by_obj_question_4)"
   ]
  },
  {
   "cell_type": "code",
   "execution_count": 27,
   "metadata": {},
   "outputs": [
    {
     "name": "stdout",
     "output_type": "stream",
     "text": [
      "4\n",
      "[[set(['c', 'd']), '->', set(['a', 'b'])],\n",
      " [set(['b']), '->', set(['d'])],\n",
      " [set(['a']), '->', set(['d'])],\n",
      " [set(['a', 'b', 'd']), '->', set(['c'])]]\n"
     ]
    }
   ],
   "source": [
    "# Week 4 quiz 2 question 4\n",
    "attrs_by_obj_context_1 = {\n",
    "    '1': set(['a', 'd']),\n",
    "    '2': set(['a', 'b', 'c', 'd']),\n",
    "    '3': set(['c']),\n",
    "    '4': set(['b', 'd']),\n",
    "}\n",
    "print_canonical_basis(attrs_by_obj_context_1)"
   ]
  },
  {
   "cell_type": "code",
   "execution_count": 28,
   "metadata": {},
   "outputs": [
    {
     "name": "stdout",
     "output_type": "stream",
     "text": [
      "3\n",
      "[[set([]), '->', set(['d'])],\n",
      " [set(['c', 'd']), '->', set(['a', 'b'])],\n",
      " [set(['a', 'b', 'd']), '->', set(['c'])]]\n"
     ]
    }
   ],
   "source": [
    "# Week 4 quiz 2 question 4\n",
    "attrs_by_obj_context_2 = {\n",
    "    '1': set(['a', 'd']),\n",
    "    '2': set(['a', 'b', 'c', 'd']),\n",
    "    '3': set(['b', 'd'])\n",
    "}\n",
    "print_canonical_basis(attrs_by_obj_context_2)"
   ]
  },
  {
   "cell_type": "code",
   "execution_count": 29,
   "metadata": {},
   "outputs": [
    {
     "name": "stdout",
     "output_type": "stream",
     "text": [
      "4\n",
      "[[set(['c', 'd']), '->', set(['a', 'b'])],\n",
      " [set(['b']), '->', set(['d'])],\n",
      " [set(['a']), '->', set(['d'])],\n",
      " [set(['a', 'b', 'd']), '->', set(['c'])]]\n"
     ]
    }
   ],
   "source": [
    "# Week 4 quiz 2 question 4\n",
    "attrs_by_obj_context_3 = {\n",
    "    '1': set(['a', 'd']),\n",
    "    '2': set(['c']),\n",
    "    '3': set(['b', 'd'])\n",
    "}\n",
    "print_canonical_basis(attrs_by_obj_context_3)"
   ]
  },
  {
   "cell_type": "code",
   "execution_count": 30,
   "metadata": {},
   "outputs": [
    {
     "name": "stdout",
     "output_type": "stream",
     "text": [
      "4\n",
      "[[set(['c', 'd']), '->', set(['a', 'b'])],\n",
      " [set(['b']), '->', set(['d'])],\n",
      " [set(['a']), '->', set(['d'])],\n",
      " [set(['a', 'b', 'd']), '->', set(['c'])]]\n"
     ]
    }
   ],
   "source": [
    "# Week 4 quiz 2 question 4\n",
    "attrs_by_obj_context_4 = {\n",
    "    '1': set(['a', 'd']),\n",
    "    '2': set(['a', 'b', 'c', 'd']),\n",
    "    '3': set(['c']),\n",
    "    '4': set(['b', 'd']),\n",
    "    '5': set(['d']),\n",
    "}\n",
    "print_canonical_basis(attrs_by_obj_context_4)"
   ]
  },
  {
   "cell_type": "code",
   "execution_count": 31,
   "metadata": {},
   "outputs": [
    {
     "name": "stdout",
     "output_type": "stream",
     "text": [
      "4\n",
      "[[set(['c', 'd']), '->', set(['a', 'b'])],\n",
      " [set(['b']), '->', set(['d'])],\n",
      " [set(['a']), '->', set(['d'])],\n",
      " [set(['a', 'b', 'd']), '->', set(['c'])]]\n"
     ]
    }
   ],
   "source": [
    "# Week 4 quiz 2 question 4\n",
    "attrs_by_obj_context_5 = {\n",
    "    '1': set(['a', 'd']),\n",
    "    '2': set(['d']),\n",
    "    '3': set(['c']),\n",
    "    '4': set(['b', 'd'])\n",
    "}\n",
    "print_canonical_basis(attrs_by_obj_context_5)"
   ]
  },
  {
   "cell_type": "code",
   "execution_count": 32,
   "metadata": {},
   "outputs": [
    {
     "name": "stdout",
     "output_type": "stream",
     "text": [
      "4\n",
      "[[set(['c', 'd']), '->', set(['a', 'b'])],\n",
      " [set(['b', 'c']), '->', set(['a'])],\n",
      " [set(['a', 'c']), '->', set(['b'])],\n",
      " [set(['a', 'b']), '->', set(['c'])]]\n"
     ]
    }
   ],
   "source": [
    "# Week 4 quiz 2 question 4\n",
    "attrs_by_obj_context_6 = {\n",
    "    '1': set(['a', 'd']),\n",
    "    '2': set(['a', 'b', 'c']),\n",
    "    '3': set(['c']),\n",
    "    '4': set(['b', 'd'])\n",
    "}\n",
    "print_canonical_basis(attrs_by_obj_context_6)"
   ]
  },
  {
   "cell_type": "code",
   "execution_count": 33,
   "metadata": {},
   "outputs": [
    {
     "name": "stdout",
     "output_type": "stream",
     "text": [
      "4\n",
      "[[set(['c', 'd']), '->', set(['a', 'b'])],\n",
      " [set(['b']), '->', set(['d'])],\n",
      " [set(['a']), '->', set(['d'])],\n",
      " [set(['a', 'b', 'd']), '->', set(['c'])]]\n"
     ]
    }
   ],
   "source": [
    "# Week 4 quiz 2 question 4\n",
    "attrs_by_obj_context_7 = {\n",
    "    '1': set(['a', 'd']),\n",
    "    '2': set([]),\n",
    "    '3': set(['c']),\n",
    "    '4': set(['b', 'd'])\n",
    "}\n",
    "print_canonical_basis(attrs_by_obj_context_7)"
   ]
  }
 ],
 "metadata": {
  "kernelspec": {
   "display_name": "Python 2",
   "language": "python",
   "name": "python2"
  },
  "language_info": {
   "codemirror_mode": {
    "name": "ipython",
    "version": 2
   },
   "file_extension": ".py",
   "mimetype": "text/x-python",
   "name": "python",
   "nbconvert_exporter": "python",
   "pygments_lexer": "ipython2",
   "version": "2.7.15"
  }
 },
 "nbformat": 4,
 "nbformat_minor": 2
}
